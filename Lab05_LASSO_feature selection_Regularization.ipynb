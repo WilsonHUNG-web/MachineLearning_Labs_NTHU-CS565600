{
 "cells": [
  {
   "cell_type": "code",
   "execution_count": 1,
   "metadata": {},
   "outputs": [],
   "source": [
    "%matplotlib inline\n",
    "import matplotlib.pyplot as plt\n",
    "import pandas as pd\n",
    "import numpy as np\n",
    "from sklearn.model_selection import train_test_split\n",
    "from sklearn.preprocessing import StandardScaler\n",
    "from sklearn.linear_model import Lasso"
   ]
  },
  {
   "cell_type": "code",
   "execution_count": 2,
   "metadata": {},
   "outputs": [
    {
     "name": "stdout",
     "output_type": "stream",
     "text": [
      "(85751, 8)\n",
      "(85751, 1)\n"
     ]
    }
   ],
   "source": [
    "#import data\n",
    "X_train = pd.read_csv('./data/X_train.csv')\n",
    "y_train = pd.read_csv('./data/y_train.csv')\n",
    "X_test = pd.read_csv('./data/X_test.csv')\n",
    "columns = X_train.columns\n",
    "\n",
    "print(X_train.shape)\n",
    "print(y_train.shape)\n",
    "\n",
    "sc= StandardScaler()\n",
    "X_train_std = sc.fit_transform(X_train)\n",
    "X_test_std = sc.fit_transform(X_test)\n",
    "\n",
    "columns = X_train.columns"
   ]
  },
  {
   "cell_type": "code",
   "execution_count": 3,
   "metadata": {},
   "outputs": [],
   "source": [
    "X_train, X_valid, y_train, y_valid = train_test_split(\n",
    "        X_train_std, y_train, test_size=0.3, random_state=0)"
   ]
  },
  {
   "cell_type": "code",
   "execution_count": 4,
   "metadata": {},
   "outputs": [
    {
     "name": "stdout",
     "output_type": "stream",
     "text": [
      "#Training data  :  60025\n",
      "#Validation data:  25726\n",
      "#Testing data   :  36751\n",
      "Class labels    :  [0 1]\n"
     ]
    }
   ],
   "source": [
    "print('#Training data  : ', X_train.shape[0])\n",
    "print('#Validation data: ', X_valid.shape[0])\n",
    "print('#Testing data   : ', X_test.shape[0])\n",
    "print('Class labels    : ', np.unique(y_train))"
   ]
  },
  {
   "cell_type": "markdown",
   "metadata": {},
   "source": [
    "<font size='5'>**↓LASSO using all 8 features, α= 0.010 gives the best accuracy↓**</font><br>\n",
    "<font size='4'>**ps. y is predicted by round() to 1 or 0**</font>"
   ]
  },
  {
   "cell_type": "code",
   "execution_count": 5,
   "metadata": {},
   "outputs": [
    {
     "name": "stdout",
     "output_type": "stream",
     "text": [
      "[alpha= 0.001]\n",
      "Misclassified samples: 10147\n",
      "Accuracy: 0.61\n",
      "\n",
      "[alpha= 0.010]\n",
      "Misclassified samples: 10131\n",
      "Accuracy: 0.61\n",
      "\n",
      "[alpha= 0.100]\n",
      "Misclassified samples: 11797\n",
      "Accuracy: 0.54\n",
      "\n",
      "[alpha= 1.000]\n",
      "Misclassified samples: 11797\n",
      "Accuracy: 0.54\n",
      "\n",
      "[alpha= 10.000]\n",
      "Misclassified samples: 11797\n",
      "Accuracy: 0.54\n",
      "\n"
     ]
    }
   ],
   "source": [
    "from sklearn.metrics import accuracy_score\n",
    "for a in [0.001, 0.01,0.1, 1, 10]:\n",
    "    lr_rg = Lasso(alpha=a)\n",
    "    lr_rg.fit(X_train, y_train)\n",
    "    lr_rg.fit(X_valid, y_valid)\n",
    "\n",
    "    y_train_pred = lr_rg.predict(X_train).round()\n",
    "    y_valid_pred = lr_rg.predict(X_valid).round()\n",
    "    y_valid = np.squeeze(y_valid)\n",
    "\n",
    "    print('[alpha= %.3f]'% a)\n",
    "    print('Misclassified samples: %d' % (y_valid != y_valid_pred).sum())\n",
    "    print('Accuracy: %.2f\\n' % accuracy_score(y_valid, y_valid_pred))"
   ]
  },
  {
   "cell_type": "markdown",
   "metadata": {},
   "source": [
    "\n",
    "<font size='5'>**↓Run Weight Decay as α grows in LASSO↓**</font><br>"
   ]
  },
  {
   "cell_type": "code",
   "execution_count": 6,
   "metadata": {},
   "outputs": [
    {
     "name": "stdout",
     "output_type": "stream",
     "text": [
      "[alpha=0.001]\n",
      "[-0.         -0.00075744  0.02162612  0.00381483 -0.02384406 -0.12644723\n",
      "  0.00835779  0.05962745] \n",
      "\n",
      "[alpha=0.010]\n",
      "[-0.         -0.          0.01809059 -0.         -0.01410962 -0.10165518\n",
      " -0.          0.04175627] \n",
      "\n",
      "[alpha=0.021]\n",
      "[-0.         -0.          0.01273044 -0.         -0.00551375 -0.0789212\n",
      " -0.          0.01982651] \n",
      "\n",
      "[alpha=0.041]\n",
      "[-0.          0.          0.         -0.         -0.         -0.04986131\n",
      " -0.          0.        ] \n",
      "\n",
      "[alpha=0.061]\n",
      "[-0.          0.          0.         -0.         -0.         -0.02986519\n",
      " -0.          0.        ] \n",
      "\n",
      "[alpha=0.081]\n",
      "[-0.          0.          0.         -0.         -0.         -0.00986908\n",
      " -0.          0.        ] \n",
      "\n"
     ]
    },
    {
     "data": {
      "image/png": "[encoded data removed]",
      "text/plain": [
       "<Figure size 432x288 with 1 Axes>"
      ]
     },
     "metadata": {
      "needs_background": "light"
     },
     "output_type": "display_data"
    }
   ],
   "source": [
    "max_alpha = 0.1\n",
    "coef_ = np.zeros((100,8))\n",
    "\n",
    "\n",
    "for a in range(100):\n",
    "    lr_rg = Lasso(alpha=a*0.001+0.001)\n",
    "    lr_rg.fit(X_train, y_train)\n",
    "\n",
    "    y_train_pred = lr_rg.predict(X_train)\n",
    "    y_valid_pred = lr_rg.predict(X_valid)\n",
    "    coef_[a,:] = lr_rg.coef_.reshape(1,-1)\n",
    "    alpha=a*0.001+0.001\n",
    "    if(a%20==0 or a==9): \n",
    "        print('[alpha=%.3f]'%alpha)\n",
    "        print(coef_[a,:],'\\n')\n",
    "    \n",
    "plt.hlines(y=0, xmin=0, xmax=max_alpha, color='#808000', linewidth = 2, linestyle = '--')\n",
    "\n",
    "\n",
    "color = ['b','c','g','k','m','r','#008080','y']\n",
    "for i in range(8):\n",
    "    plt.plot(range(100),coef_[:,i],color=color[i],label=columns[i])\n",
    "    \n",
    "plt.ylabel('Coefficients')\n",
    "plt.xlabel('Alpha*1000')\n",
    "plt.xlim(-1,90)\n",
    "plt.ylim(-0.03,0.02)\n",
    "plt.legend(loc = 'best')\n",
    "plt.tight_layout()\n",
    "plt.show()"
   ]
  },
  {
   "cell_type": "markdown",
   "metadata": {},
   "source": [
    "<span style=\"color:blue\"> <font size=\"4\"> **↑Select SHOT_DIST , SHOT_CLOCK and CLOSE_DEF_DIST as top-3 features↑**<br>**, which converge to zero the latest with incremental α**</font></span><br><br>\n",
    "\n",
    "<font size='5'>**↓LASSO for Feature Selection↓**</font><br>"
   ]
  },
  {
   "cell_type": "code",
   "execution_count": 7,
   "metadata": {},
   "outputs": [
    {
     "data": {
      "image/png": "[encoded data removed]",
      "text/plain": [
       "<Figure size 432x288 with 1 Axes>"
      ]
     },
     "metadata": {
      "needs_background": "light"
     },
     "output_type": "display_data"
    },
    {
     "name": "stdout",
     "output_type": "stream",
     "text": [
      "Selected attributes: ['SHOT_CLOCK' 'SHOT_DIST' 'CLOSE_DEF_DIST']\n"
     ]
    }
   ],
   "source": [
    "lr_lasso = Lasso(alpha = 0.01)\n",
    "lr_lasso.fit(X_train, y_train)\n",
    "\n",
    "plt.scatter(range(8),lr_lasso.coef_, label = 'LASSO', color = 'blue')\n",
    "plt.hlines(y=0, xmin=0, xmax=7, color='red', linestyle ='--')\n",
    "plt.xlim(0,7)\n",
    "plt.legend(loc = 'right')\n",
    "plt.xlabel('Coefficients index')\n",
    "plt.ylabel('Coefficients')\n",
    "plt.tight_layout()\n",
    "plt.show()\n",
    "\n",
    "\n",
    "epsilon = 0.015\n",
    "idxs = np.where(abs(lr_lasso.coef_) > epsilon)\n",
    "print('Selected attributes: {}'.format(columns.values[idxs]))"
   ]
  },
  {
   "cell_type": "markdown",
   "metadata": {},
   "source": [
    "<span style=\"color:blue\"> <font size=\"4\"> **↑Also suggests SHOT_DIST , SHOT_CLOCK and CLOSE_DEF_DIST as top-3 features↑**</font></span>"
   ]
  },
  {
   "cell_type": "code",
   "execution_count": 8,
   "metadata": {},
   "outputs": [],
   "source": [
    "X_train_ = [X_train[..., 2],X_train[..., 5],X_train[..., 7],]\n",
    "X_train_ = np.asarray(X_train_)\n",
    "X_train_= X_train_.T\n",
    "#print(X_train_.shape)\n",
    "\n",
    "\n",
    "X_valid_ = [X_valid[..., 2],X_valid[..., 5],X_valid[..., 7]]\n",
    "X_valid_ = np.asarray(X_valid_)\n",
    "X_valid_= X_valid_.T\n",
    "#print(X_valid_.shape)\n",
    "\n",
    "\n",
    "X_test_ = [X_test_std[..., 2],X_test_std[..., 5],X_test_std[..., 7]]\n",
    "X_test_ = np.asarray(X_test_)\n",
    "X_test_ = X_test_.T\n",
    "#print(X_test_.shape)\n",
    "\n",
    "y_valid = np.squeeze(y_valid)"
   ]
  },
  {
   "cell_type": "markdown",
   "metadata": {
    "scrolled": true
   },
   "source": [
    "<font size='5'>**↓Try out the top-3 features for LASSO, α= 0.010 is still the best↓<br>but the misclassified#(10159) is a bit worse than 8-features LASSO(=10131)**</font>"
   ]
  },
  {
   "cell_type": "code",
   "execution_count": 9,
   "metadata": {},
   "outputs": [
    {
     "name": "stdout",
     "output_type": "stream",
     "text": [
      "[alpha= 0.001]\n",
      "Misclassified samples: 10211\n",
      "Accuracy: 0.60\n",
      "\n",
      "[alpha= 0.010]\n",
      "Misclassified samples: 10159\n",
      "Accuracy: 0.61\n",
      "\n",
      "[alpha= 0.100]\n",
      "Misclassified samples: 11797\n",
      "Accuracy: 0.54\n",
      "\n",
      "[alpha= 1.000]\n",
      "Misclassified samples: 11797\n",
      "Accuracy: 0.54\n",
      "\n",
      "[alpha= 10.000]\n",
      "Misclassified samples: 11797\n",
      "Accuracy: 0.54\n",
      "\n"
     ]
    }
   ],
   "source": [
    "from sklearn.metrics import accuracy_score\n",
    "for a in [0.001, 0.01,0.1, 1, 10]:\n",
    "    lr_rg = Lasso(alpha=a)\n",
    "    lr_rg.fit(X_train_, y_train)\n",
    "    lr_rg.fit(X_valid_, y_valid)\n",
    "\n",
    "    y_train_pred = lr_rg.predict(X_train_).round()\n",
    "    y_valid_pred = lr_rg.predict(X_valid_).round()\n",
    "    y_pred = lr_rg.predict(X_test_).round()\n",
    "\n",
    "    print('[alpha= %.3f]'% a)\n",
    "    print('Misclassified samples: %d' % (y_valid != y_valid_pred).sum())\n",
    "    print('Accuracy: %.2f\\n' % accuracy_score(y_valid, y_valid_pred))"
   ]
  },
  {
   "cell_type": "markdown",
   "metadata": {},
   "source": [
    "<span style=\"color:blue\"> <font size=\"5\"> **↓BEST MODEL SO FAR↓**</font></span><br>\n",
    "<span style=\"color:blue\"> <font size=\"5\"> **Use LASSO, pick α=0.01, use all 8 features and save the y_pred.csv**</font></span>"
   ]
  },
  {
   "cell_type": "code",
   "execution_count": 10,
   "metadata": {},
   "outputs": [
    {
     "name": "stdout",
     "output_type": "stream",
     "text": [
      "[alpha= 10.000]\n",
      "Misclassified samples: 10131\n",
      "Accuracy: 0.61\n",
      "\n"
     ]
    }
   ],
   "source": [
    "lr_rg = Lasso(alpha=0.01)\n",
    "lr_rg.fit(X_train, y_train)\n",
    "lr_rg.fit(X_valid, y_valid)\n",
    "\n",
    "y_train_pred = lr_rg.predict(X_train).round()\n",
    "y_valid_pred = lr_rg.predict(X_valid).round()\n",
    "y_pred = lr_rg.predict(X_test).round()\n",
    "\n",
    "print('[alpha= %.3f]'% a)\n",
    "print('Misclassified samples: %d' % (y_valid != y_valid_pred).sum())\n",
    "print('Accuracy: %.2f\\n' % accuracy_score(y_valid, y_valid_pred))\n",
    "\n",
    "\n",
    "import numpy as op\n",
    "op = op.concatenate((['FGM'],y_pred),axis=0)\n",
    "y_pred = op\n",
    "import numpy\n",
    "numpy.savetxt('y_pred.csv', y_pred,fmt='%s')"
   ]
  },
  {
   "cell_type": "code",
   "execution_count": 11,
   "metadata": {},
   "outputs": [
    {
     "name": "stdout",
     "output_type": "stream",
     "text": [
      "[Error Curve] max_alpha = 100/1000=0.1\n"
     ]
    },
    {
     "data": {
      "image/png": "[encoded data removed]",
      "text/plain": [
       "<Figure size 432x288 with 1 Axes>"
      ]
     },
     "metadata": {
      "needs_background": "light"
     },
     "output_type": "display_data"
    }
   ],
   "source": [
    "from sklearn.metrics import mean_squared_error\n",
    "\n",
    "mse_train = []\n",
    "mse_valid = []\n",
    "\n",
    "for a in range(100):\n",
    "\n",
    "    lr_rg = Lasso(alpha=a*0.001+0.001)\n",
    "    lr_rg.fit(X_train, y_train)\n",
    "\n",
    "    y_train_pred = lr_rg.predict(X_train).round()\n",
    "    y_valid_pred = lr_rg.predict(X_valid).round()\n",
    "    \n",
    "    mse_train.append(mean_squared_error(y_train, y_train_pred))\n",
    "    mse_valid.append(mean_squared_error(y_valid, y_valid_pred))\n",
    "    \n",
    "print('[Error Curve] max_alpha = 100/1000=0.1')\n",
    "plt.plot(range(100), mse_train, label = 'Training error  ', color = 'blue', linewidth = 2)\n",
    "plt.plot(range(100), mse_valid, label = 'Validation error', color = 'red', linewidth = 2)\n",
    "plt.legend(loc='right')\n",
    "plt.xlabel('Alpha*1000')\n",
    "plt.ylabel('$MSE$')\n",
    "plt.tight_layout()\n",
    "plt.show()"
   ]
  },
  {
   "cell_type": "markdown",
   "metadata": {},
   "source": [
    "<font size='4'>**As α=0.01, it is NOT an overfit for validation error is still decreasing.<br>However, when α goes beyond ~0.02, it starts becoming an overfit.**</font><br>"
   ]
  },
  {
   "cell_type": "markdown",
   "metadata": {},
   "source": [
    "<font size='5'>**--------Report--------**</font><br>\n",
    "<font size='3'>\n",
    "    1. Standardize the training and test data<br>\n",
    "    2. Split training data into training / validation data<br>\n",
    "    3. Use all training data with 8 features to run LASSO with different α and round the prediction<br>\n",
    "    4. Find out when α is 0.01, LASSO gives the best accuracy(0.61)<br>\n",
    "    5. Try out the Weight Decay method with incremental α and found top-3 features(SHOT_DIST, SHOT_CLOCK and CLOSE_DEF_DIST)<br>\n",
    "    6. Try out LASSO for Feature Selection introduced in the lab guide and also suggests the same top-3 feautures<br>\n",
    "    7. Try use the top-three features to run LASSO again with different α<br>\n",
    "    8. Still α=0.01 gives the best accurcy(0.61) but with a lit larger misclassified#, 10159 vs. 10131 with 8 features<br>\n",
    "    9. Choose 8 feautures with LASSO and α=0.01 as the best approach and output y_pred.csv<br>\n",
    "    10. Draw the error curves with MSE vs. α and it tells us that the result is not an overfit when α=0.01<br>\n",
    "    "
   ]
  },
  {
   "cell_type": "markdown",
   "metadata": {},
   "source": [
    "<font size='5'>**--------Q&A--------**</font><br>\n",
    "<font size='4'>Q1:How you evaluate your model.</font><br>\n",
    "By checking the misclassified# and thus the accuracy<br>\n",
    "\n",
    "<font size='4'>Q2:All models you have tried and the corresponding results.</font><br>\n",
    "As shown above, LASSO with different α and Weight Decay and Feature Selection. and LASSO with different features<br>\n",
    "\n",
    "<font size='4'>Q3:Plot the error curve of your best model and tell if it is over-fit or not.</font><br>\n",
    "As shown above the plot and it is not an overfit when α=0.01<br>\n",
    "\n",
    "<font size='4'>Q4:The top-3 features you find and how you find it</font><br>\n",
    "As shown above, they are SHOT_DIST , SHOT_CLOCK and CLOSE_DEF_DIST found by LASSO weight decay method and LASSO for Feature Selection introduced in the lab guide<br>\n",
    "\n",
    "<font size='4'>Q5:A brief report what you do in this assignment.</font><br>\n",
    "As shown above the report<br>"
   ]
  },
  {
   "cell_type": "code",
   "execution_count": null,
   "metadata": {},
   "outputs": [],
   "source": []
  }
 ],
 "metadata": {
  "kernelspec": {
   "display_name": "Python 3",
   "language": "python",
   "name": "python3"
  },
  "language_info": {
   "codemirror_mode": {
    "name": "ipython",
    "version": 3
   },
   "file_extension": ".py",
   "mimetype": "text/x-python",
   "name": "python",
   "nbconvert_exporter": "python",
   "pygments_lexer": "ipython3",
   "version": "3.8.5"
  }
 },
 "nbformat": 4,
 "nbformat_minor": 4
}
